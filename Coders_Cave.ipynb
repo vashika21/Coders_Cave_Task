{
 "cells": [
  {
   "cell_type": "code",
   "execution_count": 27,
   "metadata": {},
   "outputs": [],
   "source": [
    "import numpy as np\n",
    "import pandas as pd\n",
    "import matplotlib.pyplot as plt\n",
    "import seaborn as sns\n"
   ]
  },
  {
   "cell_type": "code",
   "execution_count": 28,
   "metadata": {},
   "outputs": [
    {
     "data": {
      "text/html": [
       "<div>\n",
       "<style scoped>\n",
       "    .dataframe tbody tr th:only-of-type {\n",
       "        vertical-align: middle;\n",
       "    }\n",
       "\n",
       "    .dataframe tbody tr th {\n",
       "        vertical-align: top;\n",
       "    }\n",
       "\n",
       "    .dataframe thead th {\n",
       "        text-align: right;\n",
       "    }\n",
       "</style>\n",
       "<table border=\"1\" class=\"dataframe\">\n",
       "  <thead>\n",
       "    <tr style=\"text-align: right;\">\n",
       "      <th></th>\n",
       "      <th>MONTH</th>\n",
       "      <th>STORECODE</th>\n",
       "      <th>QTY</th>\n",
       "      <th>VALUE</th>\n",
       "      <th>GRP</th>\n",
       "      <th>SGRP</th>\n",
       "      <th>SSGRP</th>\n",
       "      <th>CMP</th>\n",
       "      <th>MBRD</th>\n",
       "      <th>BRD</th>\n",
       "    </tr>\n",
       "  </thead>\n",
       "  <tbody>\n",
       "    <tr>\n",
       "      <th>0</th>\n",
       "      <td>M1</td>\n",
       "      <td>P1</td>\n",
       "      <td>25</td>\n",
       "      <td>83</td>\n",
       "      <td>HAIR CONDITIONERS</td>\n",
       "      <td>HAIR CONDITIONERS</td>\n",
       "      <td>HAIR CONDITIONERS</td>\n",
       "      <td>HINDUSTAN UNILEVER LIMITED</td>\n",
       "      <td>DOVE</td>\n",
       "      <td>DOVE HAIR FALL RESCUE</td>\n",
       "    </tr>\n",
       "    <tr>\n",
       "      <th>1</th>\n",
       "      <td>M1</td>\n",
       "      <td>P1</td>\n",
       "      <td>6</td>\n",
       "      <td>22</td>\n",
       "      <td>HAIR CONDITIONERS</td>\n",
       "      <td>HAIR CONDITIONERS</td>\n",
       "      <td>HAIR CONDITIONERS</td>\n",
       "      <td>HINDUSTAN UNILEVER LIMITED</td>\n",
       "      <td>DOVE</td>\n",
       "      <td>DOVE INTENSE REPAIR</td>\n",
       "    </tr>\n",
       "    <tr>\n",
       "      <th>2</th>\n",
       "      <td>M1</td>\n",
       "      <td>P1</td>\n",
       "      <td>4</td>\n",
       "      <td>15</td>\n",
       "      <td>HAIR CONDITIONERS</td>\n",
       "      <td>HAIR CONDITIONERS</td>\n",
       "      <td>HAIR CONDITIONERS</td>\n",
       "      <td>HINDUSTAN UNILEVER LIMITED</td>\n",
       "      <td>DOVE</td>\n",
       "      <td>DOVE OXYGEN MOISTURE</td>\n",
       "    </tr>\n",
       "    <tr>\n",
       "      <th>3</th>\n",
       "      <td>M1</td>\n",
       "      <td>P1</td>\n",
       "      <td>15</td>\n",
       "      <td>60</td>\n",
       "      <td>HAIR CONDITIONERS</td>\n",
       "      <td>HAIR CONDITIONERS</td>\n",
       "      <td>HAIR CONDITIONERS</td>\n",
       "      <td>L'OREAL INDIA</td>\n",
       "      <td>GARNIER</td>\n",
       "      <td>FRUCTIS</td>\n",
       "    </tr>\n",
       "    <tr>\n",
       "      <th>4</th>\n",
       "      <td>M1</td>\n",
       "      <td>P2</td>\n",
       "      <td>0</td>\n",
       "      <td>0</td>\n",
       "      <td>HAIR CONDITIONERS</td>\n",
       "      <td>HAIR CONDITIONERS</td>\n",
       "      <td>HAIR CONDITIONERS</td>\n",
       "      <td>HINDUSTAN UNILEVER LIMITED</td>\n",
       "      <td>CLINIC PLUS</td>\n",
       "      <td>CLINIC PLUS</td>\n",
       "    </tr>\n",
       "    <tr>\n",
       "      <th>...</th>\n",
       "      <td>...</td>\n",
       "      <td>...</td>\n",
       "      <td>...</td>\n",
       "      <td>...</td>\n",
       "      <td>...</td>\n",
       "      <td>...</td>\n",
       "      <td>...</td>\n",
       "      <td>...</td>\n",
       "      <td>...</td>\n",
       "      <td>...</td>\n",
       "    </tr>\n",
       "    <tr>\n",
       "      <th>14255</th>\n",
       "      <td>M3</td>\n",
       "      <td>P10</td>\n",
       "      <td>0</td>\n",
       "      <td>0</td>\n",
       "      <td>SUGAR SUBSTITUTE (11/05)</td>\n",
       "      <td>POWDER (SUGAR SUBST)</td>\n",
       "      <td>POWDER (SUGAR SUBST)</td>\n",
       "      <td>ZYDUS WELLNESS LTD</td>\n",
       "      <td>SUGAR FREE</td>\n",
       "      <td>SUGAR FREE GOLD</td>\n",
       "    </tr>\n",
       "    <tr>\n",
       "      <th>14256</th>\n",
       "      <td>M3</td>\n",
       "      <td>P8</td>\n",
       "      <td>1</td>\n",
       "      <td>62</td>\n",
       "      <td>SUGAR SUBSTITUTE (11/05)</td>\n",
       "      <td>PELLETS (SUGAR SUBST)</td>\n",
       "      <td>PELLETS (SUGAR SUBST)</td>\n",
       "      <td>ZYDUS WELLNESS LTD</td>\n",
       "      <td>SUGAR FREE</td>\n",
       "      <td>SUGAR FREE GOLD</td>\n",
       "    </tr>\n",
       "    <tr>\n",
       "      <th>14257</th>\n",
       "      <td>M1</td>\n",
       "      <td>P6</td>\n",
       "      <td>0</td>\n",
       "      <td>0</td>\n",
       "      <td>SUGAR SUBSTITUTE (11/05)</td>\n",
       "      <td>PELLETS (SUGAR SUBST)</td>\n",
       "      <td>PELLETS (SUGAR SUBST)</td>\n",
       "      <td>ZYDUS WELLNESS LTD</td>\n",
       "      <td>SUGAR FREE</td>\n",
       "      <td>SUGAR FREE GOLD</td>\n",
       "    </tr>\n",
       "    <tr>\n",
       "      <th>14258</th>\n",
       "      <td>M1</td>\n",
       "      <td>P10</td>\n",
       "      <td>0</td>\n",
       "      <td>0</td>\n",
       "      <td>SUGAR SUBSTITUTE (11/05)</td>\n",
       "      <td>POWDER (SUGAR SUBST)</td>\n",
       "      <td>POWDER (SUGAR SUBST)</td>\n",
       "      <td>ZYDUS WELLNESS LTD</td>\n",
       "      <td>SUGAR FREE</td>\n",
       "      <td>SUGAR FREE GOLD</td>\n",
       "    </tr>\n",
       "    <tr>\n",
       "      <th>14259</th>\n",
       "      <td>M1</td>\n",
       "      <td>P8</td>\n",
       "      <td>1</td>\n",
       "      <td>62</td>\n",
       "      <td>SUGAR SUBSTITUTE (11/05)</td>\n",
       "      <td>PELLETS (SUGAR SUBST)</td>\n",
       "      <td>PELLETS (SUGAR SUBST)</td>\n",
       "      <td>ZYDUS WELLNESS LTD</td>\n",
       "      <td>SUGAR FREE</td>\n",
       "      <td>SUGAR FREE GOLD</td>\n",
       "    </tr>\n",
       "  </tbody>\n",
       "</table>\n",
       "<p>14260 rows × 10 columns</p>\n",
       "</div>"
      ],
      "text/plain": [
       "      MONTH STORECODE  QTY  VALUE                       GRP  \\\n",
       "0        M1        P1   25     83         HAIR CONDITIONERS   \n",
       "1        M1        P1    6     22         HAIR CONDITIONERS   \n",
       "2        M1        P1    4     15         HAIR CONDITIONERS   \n",
       "3        M1        P1   15     60         HAIR CONDITIONERS   \n",
       "4        M1        P2    0      0         HAIR CONDITIONERS   \n",
       "...     ...       ...  ...    ...                       ...   \n",
       "14255    M3       P10    0      0  SUGAR SUBSTITUTE (11/05)   \n",
       "14256    M3        P8    1     62  SUGAR SUBSTITUTE (11/05)   \n",
       "14257    M1        P6    0      0  SUGAR SUBSTITUTE (11/05)   \n",
       "14258    M1       P10    0      0  SUGAR SUBSTITUTE (11/05)   \n",
       "14259    M1        P8    1     62  SUGAR SUBSTITUTE (11/05)   \n",
       "\n",
       "                        SGRP                  SSGRP  \\\n",
       "0          HAIR CONDITIONERS      HAIR CONDITIONERS   \n",
       "1          HAIR CONDITIONERS      HAIR CONDITIONERS   \n",
       "2          HAIR CONDITIONERS      HAIR CONDITIONERS   \n",
       "3          HAIR CONDITIONERS      HAIR CONDITIONERS   \n",
       "4          HAIR CONDITIONERS      HAIR CONDITIONERS   \n",
       "...                      ...                    ...   \n",
       "14255   POWDER (SUGAR SUBST)   POWDER (SUGAR SUBST)   \n",
       "14256  PELLETS (SUGAR SUBST)  PELLETS (SUGAR SUBST)   \n",
       "14257  PELLETS (SUGAR SUBST)  PELLETS (SUGAR SUBST)   \n",
       "14258   POWDER (SUGAR SUBST)   POWDER (SUGAR SUBST)   \n",
       "14259  PELLETS (SUGAR SUBST)  PELLETS (SUGAR SUBST)   \n",
       "\n",
       "                              CMP         MBRD                    BRD  \n",
       "0      HINDUSTAN UNILEVER LIMITED         DOVE  DOVE HAIR FALL RESCUE  \n",
       "1      HINDUSTAN UNILEVER LIMITED         DOVE    DOVE INTENSE REPAIR  \n",
       "2      HINDUSTAN UNILEVER LIMITED         DOVE   DOVE OXYGEN MOISTURE  \n",
       "3                   L'OREAL INDIA      GARNIER                FRUCTIS  \n",
       "4      HINDUSTAN UNILEVER LIMITED  CLINIC PLUS            CLINIC PLUS  \n",
       "...                           ...          ...                    ...  \n",
       "14255          ZYDUS WELLNESS LTD   SUGAR FREE        SUGAR FREE GOLD  \n",
       "14256          ZYDUS WELLNESS LTD   SUGAR FREE        SUGAR FREE GOLD  \n",
       "14257          ZYDUS WELLNESS LTD   SUGAR FREE        SUGAR FREE GOLD  \n",
       "14258          ZYDUS WELLNESS LTD   SUGAR FREE        SUGAR FREE GOLD  \n",
       "14259          ZYDUS WELLNESS LTD   SUGAR FREE        SUGAR FREE GOLD  \n",
       "\n",
       "[14260 rows x 10 columns]"
      ]
     },
     "execution_count": 28,
     "metadata": {},
     "output_type": "execute_result"
    }
   ],
   "source": [
    "df=pd.read_csv(\"Hackathon_Ideal_Data.csv\")\n",
    "df"
   ]
  },
  {
   "cell_type": "markdown",
   "metadata": {},
   "source": [
    "GRP - Group Level\n",
    "SGRP - Sub Group Level\n",
    "SSGRP - Sub Sub Group Level\n",
    "CMP - Company\n",
    "MBRD - Mother Brand Level\n",
    "BRD - Brand Level"
   ]
  },
  {
   "cell_type": "code",
   "execution_count": 29,
   "metadata": {},
   "outputs": [
    {
     "name": "stdout",
     "output_type": "stream",
     "text": [
      "<class 'pandas.core.frame.DataFrame'>\n",
      "RangeIndex: 14260 entries, 0 to 14259\n",
      "Data columns (total 10 columns):\n",
      " #   Column     Non-Null Count  Dtype \n",
      "---  ------     --------------  ----- \n",
      " 0   MONTH      14260 non-null  object\n",
      " 1   STORECODE  14260 non-null  object\n",
      " 2   QTY        14260 non-null  int64 \n",
      " 3   VALUE      14260 non-null  int64 \n",
      " 4   GRP        14260 non-null  object\n",
      " 5   SGRP       14260 non-null  object\n",
      " 6   SSGRP      14260 non-null  object\n",
      " 7   CMP        14260 non-null  object\n",
      " 8   MBRD       14260 non-null  object\n",
      " 9   BRD        14260 non-null  object\n",
      "dtypes: int64(2), object(8)\n",
      "memory usage: 1.1+ MB\n"
     ]
    }
   ],
   "source": [
    "df.info()"
   ]
  },
  {
   "cell_type": "code",
   "execution_count": 30,
   "metadata": {},
   "outputs": [
    {
     "data": {
      "text/plain": [
       "MONTH        0\n",
       "STORECODE    0\n",
       "QTY          0\n",
       "VALUE        0\n",
       "GRP          0\n",
       "SGRP         0\n",
       "SSGRP        0\n",
       "CMP          0\n",
       "MBRD         0\n",
       "BRD          0\n",
       "dtype: int64"
      ]
     },
     "execution_count": 30,
     "metadata": {},
     "output_type": "execute_result"
    }
   ],
   "source": [
    "df.isnull().sum()"
   ]
  },
  {
   "cell_type": "code",
   "execution_count": 31,
   "metadata": {},
   "outputs": [
    {
     "data": {
      "text/plain": [
       "array(['M1', 'M3', 'M2'], dtype=object)"
      ]
     },
     "execution_count": 31,
     "metadata": {},
     "output_type": "execute_result"
    }
   ],
   "source": [
    "df['MONTH'].unique()"
   ]
  },
  {
   "cell_type": "code",
   "execution_count": 32,
   "metadata": {},
   "outputs": [
    {
     "data": {
      "text/plain": [
       "array(['P1', 'P2', 'P3', 'P4', 'P5', 'P6', 'P7', 'P8', 'P9', 'P10'],\n",
       "      dtype=object)"
      ]
     },
     "execution_count": 32,
     "metadata": {},
     "output_type": "execute_result"
    }
   ],
   "source": [
    "df['STORECODE'].unique()"
   ]
  },
  {
   "cell_type": "code",
   "execution_count": 33,
   "metadata": {},
   "outputs": [
    {
     "data": {
      "text/html": [
       "<div>\n",
       "<style scoped>\n",
       "    .dataframe tbody tr th:only-of-type {\n",
       "        vertical-align: middle;\n",
       "    }\n",
       "\n",
       "    .dataframe tbody tr th {\n",
       "        vertical-align: top;\n",
       "    }\n",
       "\n",
       "    .dataframe thead th {\n",
       "        text-align: right;\n",
       "    }\n",
       "</style>\n",
       "<table border=\"1\" class=\"dataframe\">\n",
       "  <thead>\n",
       "    <tr style=\"text-align: right;\">\n",
       "      <th></th>\n",
       "      <th>MONTH</th>\n",
       "      <th>STORECODE</th>\n",
       "      <th>QTY</th>\n",
       "      <th>VALUE</th>\n",
       "      <th>GRP</th>\n",
       "      <th>SGRP</th>\n",
       "      <th>SSGRP</th>\n",
       "      <th>CMP</th>\n",
       "      <th>MBRD</th>\n",
       "      <th>BRD</th>\n",
       "    </tr>\n",
       "  </thead>\n",
       "  <tbody>\n",
       "    <tr>\n",
       "      <th>0</th>\n",
       "      <td>M1</td>\n",
       "      <td>P1</td>\n",
       "      <td>25</td>\n",
       "      <td>83</td>\n",
       "      <td>HAIR CONDITIONERS</td>\n",
       "      <td>HAIR CONDITIONERS</td>\n",
       "      <td>HAIR CONDITIONERS</td>\n",
       "      <td>HINDUSTAN UNILEVER LIMITED</td>\n",
       "      <td>DOVE</td>\n",
       "      <td>DOVE HAIR FALL RESCUE</td>\n",
       "    </tr>\n",
       "    <tr>\n",
       "      <th>7106</th>\n",
       "      <td>M1</td>\n",
       "      <td>P3</td>\n",
       "      <td>1</td>\n",
       "      <td>0</td>\n",
       "      <td>AGARBATTI &amp; DHOOPBATTI</td>\n",
       "      <td>DHOOPBATTI</td>\n",
       "      <td>DHOOPBATTI</td>\n",
       "      <td>N RANGA RAO &amp; SONS</td>\n",
       "      <td>VASU</td>\n",
       "      <td>VASU</td>\n",
       "    </tr>\n",
       "    <tr>\n",
       "      <th>7105</th>\n",
       "      <td>M1</td>\n",
       "      <td>P3</td>\n",
       "      <td>16</td>\n",
       "      <td>196</td>\n",
       "      <td>AGARBATTI &amp; DHOOPBATTI</td>\n",
       "      <td>AGARBATTI</td>\n",
       "      <td>AGARBATTI</td>\n",
       "      <td>PARIMAL MANDIR</td>\n",
       "      <td>PARIMAL</td>\n",
       "      <td>PARIMAL</td>\n",
       "    </tr>\n",
       "    <tr>\n",
       "      <th>7104</th>\n",
       "      <td>M1</td>\n",
       "      <td>P3</td>\n",
       "      <td>0</td>\n",
       "      <td>0</td>\n",
       "      <td>AGARBATTI &amp; DHOOPBATTI</td>\n",
       "      <td>AGARBATTI</td>\n",
       "      <td>AGARBATTI</td>\n",
       "      <td>N RANGA RAO &amp; SONS</td>\n",
       "      <td>CYCLE</td>\n",
       "      <td>CYCLE HERITAGE</td>\n",
       "    </tr>\n",
       "    <tr>\n",
       "      <th>7103</th>\n",
       "      <td>M1</td>\n",
       "      <td>P3</td>\n",
       "      <td>4</td>\n",
       "      <td>36</td>\n",
       "      <td>AGARBATTI &amp; DHOOPBATTI</td>\n",
       "      <td>AGARBATTI</td>\n",
       "      <td>AGARBATTI</td>\n",
       "      <td>N RANGA RAO &amp; SONS</td>\n",
       "      <td>CYCLE</td>\n",
       "      <td>CYCLE GOOD LUCK ROSE</td>\n",
       "    </tr>\n",
       "    <tr>\n",
       "      <th>...</th>\n",
       "      <td>...</td>\n",
       "      <td>...</td>\n",
       "      <td>...</td>\n",
       "      <td>...</td>\n",
       "      <td>...</td>\n",
       "      <td>...</td>\n",
       "      <td>...</td>\n",
       "      <td>...</td>\n",
       "      <td>...</td>\n",
       "      <td>...</td>\n",
       "    </tr>\n",
       "    <tr>\n",
       "      <th>1758</th>\n",
       "      <td>M3</td>\n",
       "      <td>P7</td>\n",
       "      <td>1</td>\n",
       "      <td>0</td>\n",
       "      <td>SHAMPOO - BY SEGMENTS</td>\n",
       "      <td>BOTTLES / TUBES</td>\n",
       "      <td>BOTTLES / TUBES</td>\n",
       "      <td>EMAMI LIMITED</td>\n",
       "      <td>KESH KING</td>\n",
       "      <td>KESH KING</td>\n",
       "    </tr>\n",
       "    <tr>\n",
       "      <th>1759</th>\n",
       "      <td>M3</td>\n",
       "      <td>P7</td>\n",
       "      <td>0</td>\n",
       "      <td>0</td>\n",
       "      <td>SHAMPOO - BY SEGMENTS</td>\n",
       "      <td>BOTTLES / TUBES</td>\n",
       "      <td>BOTTLES / TUBES</td>\n",
       "      <td>HIMALAYA DRUG</td>\n",
       "      <td>HIMALAYA</td>\n",
       "      <td>HIMALAYA ANTI DANDRUFF</td>\n",
       "    </tr>\n",
       "    <tr>\n",
       "      <th>1760</th>\n",
       "      <td>M3</td>\n",
       "      <td>P7</td>\n",
       "      <td>13</td>\n",
       "      <td>822</td>\n",
       "      <td>SHAMPOO - BY SEGMENTS</td>\n",
       "      <td>BOTTLES / TUBES</td>\n",
       "      <td>BOTTLES / TUBES</td>\n",
       "      <td>HINDUSTAN UNILEVER LIMITED</td>\n",
       "      <td>CLINIC PLUS</td>\n",
       "      <td>CLINIC PLUS</td>\n",
       "    </tr>\n",
       "    <tr>\n",
       "      <th>1750</th>\n",
       "      <td>M3</td>\n",
       "      <td>P6</td>\n",
       "      <td>22</td>\n",
       "      <td>52</td>\n",
       "      <td>SHAMPOO - BY SEGMENTS</td>\n",
       "      <td>SACHETS</td>\n",
       "      <td>SACHETS</td>\n",
       "      <td>HINDUSTAN UNILEVER LIMITED</td>\n",
       "      <td>DOVE</td>\n",
       "      <td>DOVE HAIR FALL RESCUE</td>\n",
       "    </tr>\n",
       "    <tr>\n",
       "      <th>8934</th>\n",
       "      <td>M3</td>\n",
       "      <td>P6</td>\n",
       "      <td>1</td>\n",
       "      <td>44</td>\n",
       "      <td>KETCHUPS/SAUCES</td>\n",
       "      <td>KETCHUPS/SAUCES</td>\n",
       "      <td>KETCHUPS/SAUCES</td>\n",
       "      <td>MAPRO FOODS PVT LTD</td>\n",
       "      <td>MAPRO</td>\n",
       "      <td>MAPRO</td>\n",
       "    </tr>\n",
       "  </tbody>\n",
       "</table>\n",
       "<p>14260 rows × 10 columns</p>\n",
       "</div>"
      ],
      "text/plain": [
       "     MONTH STORECODE  QTY  VALUE                     GRP               SGRP  \\\n",
       "0       M1        P1   25     83       HAIR CONDITIONERS  HAIR CONDITIONERS   \n",
       "7106    M1        P3    1      0  AGARBATTI & DHOOPBATTI         DHOOPBATTI   \n",
       "7105    M1        P3   16    196  AGARBATTI & DHOOPBATTI          AGARBATTI   \n",
       "7104    M1        P3    0      0  AGARBATTI & DHOOPBATTI          AGARBATTI   \n",
       "7103    M1        P3    4     36  AGARBATTI & DHOOPBATTI          AGARBATTI   \n",
       "...    ...       ...  ...    ...                     ...                ...   \n",
       "1758    M3        P7    1      0   SHAMPOO - BY SEGMENTS    BOTTLES / TUBES   \n",
       "1759    M3        P7    0      0   SHAMPOO - BY SEGMENTS    BOTTLES / TUBES   \n",
       "1760    M3        P7   13    822   SHAMPOO - BY SEGMENTS    BOTTLES / TUBES   \n",
       "1750    M3        P6   22     52   SHAMPOO - BY SEGMENTS            SACHETS   \n",
       "8934    M3        P6    1     44         KETCHUPS/SAUCES    KETCHUPS/SAUCES   \n",
       "\n",
       "                  SSGRP                         CMP         MBRD  \\\n",
       "0     HAIR CONDITIONERS  HINDUSTAN UNILEVER LIMITED         DOVE   \n",
       "7106         DHOOPBATTI          N RANGA RAO & SONS         VASU   \n",
       "7105          AGARBATTI              PARIMAL MANDIR      PARIMAL   \n",
       "7104          AGARBATTI          N RANGA RAO & SONS        CYCLE   \n",
       "7103          AGARBATTI          N RANGA RAO & SONS        CYCLE   \n",
       "...                 ...                         ...          ...   \n",
       "1758    BOTTLES / TUBES               EMAMI LIMITED    KESH KING   \n",
       "1759    BOTTLES / TUBES               HIMALAYA DRUG     HIMALAYA   \n",
       "1760    BOTTLES / TUBES  HINDUSTAN UNILEVER LIMITED  CLINIC PLUS   \n",
       "1750            SACHETS  HINDUSTAN UNILEVER LIMITED         DOVE   \n",
       "8934    KETCHUPS/SAUCES         MAPRO FOODS PVT LTD        MAPRO   \n",
       "\n",
       "                         BRD  \n",
       "0      DOVE HAIR FALL RESCUE  \n",
       "7106                    VASU  \n",
       "7105                 PARIMAL  \n",
       "7104          CYCLE HERITAGE  \n",
       "7103    CYCLE GOOD LUCK ROSE  \n",
       "...                      ...  \n",
       "1758               KESH KING  \n",
       "1759  HIMALAYA ANTI DANDRUFF  \n",
       "1760             CLINIC PLUS  \n",
       "1750   DOVE HAIR FALL RESCUE  \n",
       "8934                   MAPRO  \n",
       "\n",
       "[14260 rows x 10 columns]"
      ]
     },
     "execution_count": 33,
     "metadata": {},
     "output_type": "execute_result"
    }
   ],
   "source": [
    "df.sort_values(by= 'MONTH')"
   ]
  },
  {
   "cell_type": "code",
   "execution_count": 34,
   "metadata": {},
   "outputs": [
    {
     "data": {
      "text/plain": [
       "count    14260.000000\n",
       "mean       294.455330\n",
       "std        760.129558\n",
       "min          0.000000\n",
       "25%         10.000000\n",
       "50%         99.000000\n",
       "75%        283.000000\n",
       "max      24185.000000\n",
       "Name: VALUE, dtype: float64"
      ]
     },
     "execution_count": 34,
     "metadata": {},
     "output_type": "execute_result"
    }
   ],
   "source": [
    "df['VALUE'].describe()\n"
   ]
  },
  {
   "cell_type": "code",
   "execution_count": 35,
   "metadata": {},
   "outputs": [
    {
     "data": {
      "text/plain": [
       "M2    4816\n",
       "M1    4804\n",
       "M3    4640\n",
       "Name: MONTH, dtype: int64"
      ]
     },
     "execution_count": 35,
     "metadata": {},
     "output_type": "execute_result"
    }
   ],
   "source": [
    "df['MONTH'].value_counts()"
   ]
  },
  {
   "cell_type": "code",
   "execution_count": 37,
   "metadata": {},
   "outputs": [
    {
     "data": {
      "text/plain": [
       "P8     2642\n",
       "P6     2097\n",
       "P10    1508\n",
       "P2     1471\n",
       "P4     1454\n",
       "P3     1362\n",
       "P9     1188\n",
       "P1     1061\n",
       "P7      850\n",
       "P5      627\n",
       "Name: STORECODE, dtype: int64"
      ]
     },
     "execution_count": 37,
     "metadata": {},
     "output_type": "execute_result"
    }
   ],
   "source": [
    "df['STORECODE'].value_counts()"
   ]
  },
  {
   "cell_type": "code",
   "execution_count": 38,
   "metadata": {},
   "outputs": [
    {
     "data": {
      "text/plain": [
       "<Axes: xlabel='MONTH', ylabel='VALUE'>"
      ]
     },
     "execution_count": 38,
     "metadata": {},
     "output_type": "execute_result"
    },
    {
     "data": {
      "image/png": "[encoded data removed]",
      "text/plain": [
       "<Figure size 640x480 with 1 Axes>"
      ]
     },
     "metadata": {},
     "output_type": "display_data"
    }
   ],
   "source": [
    "sns.barplot(x = 'MONTH',y='VALUE',data=df)"
   ]
  },
  {
   "cell_type": "code",
   "execution_count": 39,
   "metadata": {},
   "outputs": [
    {
     "data": {
      "text/html": [
       "<div>\n",
       "<style scoped>\n",
       "    .dataframe tbody tr th:only-of-type {\n",
       "        vertical-align: middle;\n",
       "    }\n",
       "\n",
       "    .dataframe tbody tr th {\n",
       "        vertical-align: top;\n",
       "    }\n",
       "\n",
       "    .dataframe thead th {\n",
       "        text-align: right;\n",
       "    }\n",
       "</style>\n",
       "<table border=\"1\" class=\"dataframe\">\n",
       "  <thead>\n",
       "    <tr style=\"text-align: right;\">\n",
       "      <th></th>\n",
       "      <th>M1</th>\n",
       "      <th>M2</th>\n",
       "      <th>M3</th>\n",
       "    </tr>\n",
       "  </thead>\n",
       "  <tbody>\n",
       "    <tr>\n",
       "      <th>0</th>\n",
       "      <td>1</td>\n",
       "      <td>0</td>\n",
       "      <td>0</td>\n",
       "    </tr>\n",
       "    <tr>\n",
       "      <th>1</th>\n",
       "      <td>1</td>\n",
       "      <td>0</td>\n",
       "      <td>0</td>\n",
       "    </tr>\n",
       "    <tr>\n",
       "      <th>2</th>\n",
       "      <td>1</td>\n",
       "      <td>0</td>\n",
       "      <td>0</td>\n",
       "    </tr>\n",
       "    <tr>\n",
       "      <th>3</th>\n",
       "      <td>1</td>\n",
       "      <td>0</td>\n",
       "      <td>0</td>\n",
       "    </tr>\n",
       "    <tr>\n",
       "      <th>4</th>\n",
       "      <td>1</td>\n",
       "      <td>0</td>\n",
       "      <td>0</td>\n",
       "    </tr>\n",
       "  </tbody>\n",
       "</table>\n",
       "</div>"
      ],
      "text/plain": [
       "   M1  M2  M3\n",
       "0   1   0   0\n",
       "1   1   0   0\n",
       "2   1   0   0\n",
       "3   1   0   0\n",
       "4   1   0   0"
      ]
     },
     "execution_count": 39,
     "metadata": {},
     "output_type": "execute_result"
    }
   ],
   "source": [
    "month_dummies =pd.get_dummies(df['MONTH'])\n",
    "month_dummies.head()"
   ]
  },
  {
   "cell_type": "code",
   "execution_count": 45,
   "metadata": {},
   "outputs": [
    {
     "data": {
      "text/plain": [
       "<Axes: xlabel='STORECODE', ylabel='QTY'>"
      ]
     },
     "execution_count": 45,
     "metadata": {},
     "output_type": "execute_result"
    },
    {
     "data": {
      "image/png": "[encoded data removed]",
      "text/plain": [
       "<Figure size 640x480 with 1 Axes>"
      ]
     },
     "metadata": {},
     "output_type": "display_data"
    }
   ],
   "source": [
    "sns.barplot(x = 'STORECODE',y='QTY',data=df)"
   ]
  },
  {
   "cell_type": "code",
   "execution_count": 46,
   "metadata": {},
   "outputs": [
    {
     "data": {
      "text/plain": [
       "<Axes: xlabel='STORECODE', ylabel='VALUE'>"
      ]
     },
     "execution_count": 46,
     "metadata": {},
     "output_type": "execute_result"
    },
    {
     "data": {
      "image/png": "[encoded data removed]",
      "text/plain": [
       "<Figure size 1200x600 with 1 Axes>"
      ]
     },
     "metadata": {},
     "output_type": "display_data"
    }
   ],
   "source": [
    "plt.figure(figsize = (12,6))\n",
    "sns.barplot(x = 'STORECODE',y='VALUE',data=df)"
   ]
  },
  {
   "cell_type": "code",
   "execution_count": 47,
   "metadata": {},
   "outputs": [
    {
     "data": {
      "text/plain": [
       "<Axes: xlabel='GRP', ylabel='QTY'>"
      ]
     },
     "execution_count": 47,
     "metadata": {},
     "output_type": "execute_result"
    },
    {
     "data": {
      "image/png": "[encoded data removed]",
      "text/plain": [
       "<Figure size 1200x600 with 1 Axes>"
      ]
     },
     "metadata": {},
     "output_type": "display_data"
    }
   ],
   "source": [
    "plt.figure(figsize = (12,6))\n",
    "sns.barplot(x = 'GRP',y='QTY',data=df)"
   ]
  },
  {
   "cell_type": "code",
   "execution_count": 48,
   "metadata": {},
   "outputs": [
    {
     "data": {
      "text/plain": [
       "<Axes: xlabel='GRP', ylabel='VALUE'>"
      ]
     },
     "execution_count": 48,
     "metadata": {},
     "output_type": "execute_result"
    },
    {
     "data": {
      "image/png": "[encoded data removed]",
      "text/plain": [
       "<Figure size 1200x600 with 1 Axes>"
      ]
     },
     "metadata": {},
     "output_type": "display_data"
    }
   ],
   "source": [
    "plt.figure(figsize = (12,6))\n",
    "sns.barplot(x = 'GRP',y='VALUE',data=df)\n",
    "head()"
   ]
  },
  {
   "cell_type": "code",
   "execution_count": 49,
   "metadata": {},
   "outputs": [
    {
     "data": {
      "text/plain": [
       "([<matplotlib.axis.XTick at 0x19c1a366440>,\n",
       "  <matplotlib.axis.XTick at 0x19c1a366410>,\n",
       "  <matplotlib.axis.XTick at 0x19c1a34ba00>,\n",
       "  <matplotlib.axis.XTick at 0x19c1a3ad1e0>,\n",
       "  <matplotlib.axis.XTick at 0x19c1a3adc90>,\n",
       "  <matplotlib.axis.XTick at 0x19c1a3ae740>,\n",
       "  <matplotlib.axis.XTick at 0x19c1a3af1f0>,\n",
       "  <matplotlib.axis.XTick at 0x19c1a3afca0>,\n",
       "  <matplotlib.axis.XTick at 0x19c1a3adf00>,\n",
       "  <matplotlib.axis.XTick at 0x19c1a3dc700>],\n",
       " [Text(1, 0, 'P2'),\n",
       "  Text(2, 0, 'P3'),\n",
       "  Text(3, 0, 'P4'),\n",
       "  Text(4, 0, 'P5'),\n",
       "  Text(5, 0, 'P6'),\n",
       "  Text(6, 0, 'P7'),\n",
       "  Text(7, 0, 'P8'),\n",
       "  Text(8, 0, 'P9'),\n",
       "  Text(9, 0, 'P10'),\n",
       "  Text(10, 0, '')])"
      ]
     },
     "execution_count": 49,
     "metadata": {},
     "output_type": "execute_result"
    },
    {
     "data": {
      "image/png": "[encoded data removed]",
      "text/plain": [
       "<Figure size 1200x600 with 1 Axes>"
      ]
     },
     "metadata": {},
     "output_type": "display_data"
    }
   ],
   "source": [
    "xdata = [1,2,3,4,5,6,7,8,9,10]\n",
    "plt.figure(figsize = (12,6))\n",
    "sns.histplot(df['STORECODE'])\n",
    "plt.xticks(xdata)"
   ]
  },
  {
   "cell_type": "code",
   "execution_count": 55,
   "metadata": {},
   "outputs": [
    {
     "data": {
      "text/plain": [
       "([<matplotlib.axis.XTick at 0x19c1a7195d0>,\n",
       "  <matplotlib.axis.XTick at 0x19c1a7195a0>,\n",
       "  <matplotlib.axis.XTick at 0x19c19d967a0>,\n",
       "  <matplotlib.axis.XTick at 0x19c1acca9e0>,\n",
       "  <matplotlib.axis.XTick at 0x19c1accb490>,\n",
       "  <matplotlib.axis.XTick at 0x19c1accbf40>,\n",
       "  <matplotlib.axis.XTick at 0x19c1acf8a30>,\n",
       "  <matplotlib.axis.XTick at 0x19c1a3fed40>,\n",
       "  <matplotlib.axis.XTick at 0x19c1acf9450>,\n",
       "  <matplotlib.axis.XTick at 0x19c1acca5c0>],\n",
       " [Text(1, 0, '1'),\n",
       "  Text(2, 0, '2'),\n",
       "  Text(3, 0, '3'),\n",
       "  Text(4, 0, '4'),\n",
       "  Text(5, 0, '5'),\n",
       "  Text(6, 0, '6'),\n",
       "  Text(7, 0, '7'),\n",
       "  Text(8, 0, '8'),\n",
       "  Text(9, 0, '9'),\n",
       "  Text(10, 0, '10')])"
      ]
     },
     "execution_count": 55,
     "metadata": {},
     "output_type": "execute_result"
    },
    {
     "data": {
      "image/png": "[encoded data removed]",
      "text/plain": [
       "<Figure size 1200x600 with 1 Axes>"
      ]
     },
     "metadata": {},
     "output_type": "display_data"
    }
   ],
   "source": [
    "xdata = [1,2,3,4,5,6,7,8,9,10]\n",
    "plt.figure(figsize = (12,6))\n",
    "sns.histplot(df['QTY'])\n",
    "plt.xticks(xdata)\n"
   ]
  }
 ],
 "metadata": {
  "kernelspec": {
   "display_name": "Python 3",
   "language": "python",
   "name": "python3"
  },
  "language_info": {
   "codemirror_mode": {
    "name": "ipython",
    "version": 3
   },
   "file_extension": ".py",
   "mimetype": "text/x-python",
   "name": "python",
   "nbconvert_exporter": "python",
   "pygments_lexer": "ipython3",
   "version": "3.10.11"
  }
 },
 "nbformat": 4,
 "nbformat_minor": 2
}
